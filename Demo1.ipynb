{
  "nbformat": 4,
  "nbformat_minor": 0,
  "metadata": {
    "colab": {
      "name": "Demo1.ipynb",
      "provenance": [],
      "authorship_tag": "ABX9TyOaZOE5c617XjuWklK12wT9",
      "include_colab_link": true
    },
    "kernelspec": {
      "name": "python3",
      "display_name": "Python 3"
    },
    "language_info": {
      "name": "python"
    }
  },
  "cells": [
    {
      "cell_type": "markdown",
      "metadata": {
        "id": "view-in-github",
        "colab_type": "text"
      },
      "source": [
        "<a href=\"https://colab.research.google.com/github/ErnestDannielTiston/CPEN-21A-CPE-1-2/blob/main/Demo1.ipynb\" target=\"_parent\"><img src=\"https://colab.research.google.com/assets/colab-badge.svg\" alt=\"Open In Colab\"/></a>"
      ]
    },
    {
      "cell_type": "markdown",
      "metadata": {
        "id": "X8BOqT8yF0oB"
      },
      "source": [
        "##Intro to Python\n",
        "\n"
      ]
    },
    {
      "cell_type": "code",
      "metadata": {
        "colab": {
          "base_uri": "https://localhost:8080/"
        },
        "id": "ffh2fFotH0bM",
        "outputId": "bcc47300-def0-43df-f739-a25492d6e966"
      },
      "source": [
        "if 5>2 :\n",
        "  print (\"five is greater than two!\")"
      ],
      "execution_count": 2,
      "outputs": [
        {
          "output_type": "stream",
          "name": "stdout",
          "text": [
            "five is greater than two!\n"
          ]
        }
      ]
    },
    {
      "cell_type": "code",
      "metadata": {
        "colab": {
          "base_uri": "https://localhost:8080/"
        },
        "id": "wOS9ENN0ISgN",
        "outputId": "75f283fd-8fd5-4f7d-d8f9-fbe840978348"
      },
      "source": [
        "x= 1 \n",
        "x, y = 1, 2\n",
        "x, y, z = 1, 2, 3\n",
        "print (\"x\")\n",
        "print (\"y\")\n",
        "print (\"z\")"
      ],
      "execution_count": 3,
      "outputs": [
        {
          "output_type": "stream",
          "name": "stdout",
          "text": [
            "x\n",
            "y\n",
            "z\n"
          ]
        }
      ]
    },
    {
      "cell_type": "code",
      "metadata": {
        "colab": {
          "base_uri": "https://localhost:8080/"
        },
        "id": "mrIfsIBZKQal",
        "outputId": "0422f652-9618-4cee-860e-2d6c746da62b"
      },
      "source": [
        "b= int(4)\n",
        "b\n",
        "c= float(4)\n",
        "c\n",
        "\n"
      ],
      "execution_count": 11,
      "outputs": [
        {
          "output_type": "execute_result",
          "data": {
            "text/plain": [
              "4.0"
            ]
          },
          "metadata": {},
          "execution_count": 11
        }
      ]
    },
    {
      "cell_type": "code",
      "metadata": {
        "colab": {
          "base_uri": "https://localhost:8080/"
        },
        "id": "P5Th3F2YJkn2",
        "outputId": "02b405e6-5c66-4017-9fce-5513592c56f4"
      },
      "source": [
        "x= 5\n",
        "y= \"Ernest\"\n",
        "print (type(x))\n",
        "print (type(y))"
      ],
      "execution_count": 4,
      "outputs": [
        {
          "output_type": "stream",
          "name": "stdout",
          "text": [
            "<class 'int'>\n",
            "<class 'str'>\n"
          ]
        }
      ]
    },
    {
      "cell_type": "code",
      "metadata": {
        "colab": {
          "base_uri": "https://localhost:8080/"
        },
        "id": "t_Vodt5pLyKs",
        "outputId": "7d5cae21-c150-402e-d7e7-465cb8b97054"
      },
      "source": [
        "y= 'John'\n",
        "x= \"John\"\n",
        "print(y)\n",
        "print(x)\n"
      ],
      "execution_count": 12,
      "outputs": [
        {
          "output_type": "stream",
          "name": "stdout",
          "text": [
            "John\n",
            "John\n"
          ]
        }
      ]
    },
    {
      "cell_type": "code",
      "metadata": {
        "colab": {
          "base_uri": "https://localhost:8080/"
        },
        "id": "TEubSMRPMFTx",
        "outputId": "ddb2b177-1711-4afa-b23c-861a2714aa16"
      },
      "source": [
        "a= 5\n",
        "A= 9\n",
        "print (a)\n",
        "print (A)"
      ],
      "execution_count": 13,
      "outputs": [
        {
          "output_type": "stream",
          "name": "stdout",
          "text": [
            "5\n",
            "9\n"
          ]
        }
      ]
    },
    {
      "cell_type": "code",
      "metadata": {
        "colab": {
          "base_uri": "https://localhost:8080/"
        },
        "id": "ONADY3LmMu3Z",
        "outputId": "e9b55400-3101-4b73-c91e-2d96fa2cb02a"
      },
      "source": [
        "x, y, z = 4,5,6\n",
        "print (x)\n",
        "print (y)\n",
        "print (z)\n"
      ],
      "execution_count": 15,
      "outputs": [
        {
          "output_type": "stream",
          "name": "stdout",
          "text": [
            "4\n",
            "5\n",
            "6\n"
          ]
        }
      ]
    },
    {
      "cell_type": "code",
      "metadata": {
        "colab": {
          "base_uri": "https://localhost:8080/"
        },
        "id": "NDbNTz0kMVYZ",
        "outputId": "9af3f8bb-b3a0-4681-8d33-7dc57b8d1668"
      },
      "source": [
        "x=y=z = 'four'\n",
        "print (x)\n",
        "print (y)\n",
        "print (z)"
      ],
      "execution_count": 14,
      "outputs": [
        {
          "output_type": "stream",
          "name": "stdout",
          "text": [
            "four\n",
            "four\n",
            "four\n"
          ]
        }
      ]
    },
    {
      "cell_type": "code",
      "metadata": {
        "colab": {
          "base_uri": "https://localhost:8080/"
        },
        "id": "5nNA0-ONM8ad",
        "outputId": "0298f2fb-8005-41d6-c224-29d1a8cb5dae"
      },
      "source": [
        "x= \"enjoying\"\n",
        "print( 'Python programming is' ' ' + x)"
      ],
      "execution_count": 18,
      "outputs": [
        {
          "output_type": "stream",
          "name": "stdout",
          "text": [
            "Python programming is enjoying\n"
          ]
        }
      ]
    },
    {
      "cell_type": "code",
      "metadata": {
        "colab": {
          "base_uri": "https://localhost:8080/"
        },
        "id": "8VzwdBsFNX0h",
        "outputId": "8cba8562-8a84-49dc-efe2-348dd553c2bd"
      },
      "source": [
        "x= 10\n",
        "y= 23\n",
        "z= 6\n",
        "print (x+y+z)"
      ],
      "execution_count": 19,
      "outputs": [
        {
          "output_type": "stream",
          "name": "stdout",
          "text": [
            "39\n"
          ]
        }
      ]
    },
    {
      "cell_type": "code",
      "metadata": {
        "colab": {
          "base_uri": "https://localhost:8080/"
        },
        "id": "_jo6oOsxQeQT",
        "outputId": "8ebaa661-7ee0-4abd-a662-bf9953942dc8"
      },
      "source": [
        "x+=8\n",
        "print (x)\n"
      ],
      "execution_count": 21,
      "outputs": [
        {
          "output_type": "stream",
          "name": "stdout",
          "text": [
            "18\n"
          ]
        }
      ]
    },
    {
      "cell_type": "code",
      "metadata": {
        "colab": {
          "base_uri": "https://localhost:8080/"
        },
        "id": "UruMquTxOvIS",
        "outputId": "7bbd0128-0f1e-41fe-cdc9-11573c2ea68b"
      },
      "source": [
        "x!=x"
      ],
      "execution_count": 20,
      "outputs": [
        {
          "output_type": "execute_result",
          "data": {
            "text/plain": [
              "False"
            ]
          },
          "metadata": {},
          "execution_count": 20
        }
      ]
    },
    {
      "cell_type": "code",
      "metadata": {
        "colab": {
          "base_uri": "https://localhost:8080/"
        },
        "id": "xfZQ14dGQl71",
        "outputId": "4f26d04c-962d-4cad-c7f7-e83a17b7b6a3"
      },
      "source": [
        "x==x"
      ],
      "execution_count": 22,
      "outputs": [
        {
          "output_type": "execute_result",
          "data": {
            "text/plain": [
              "True"
            ]
          },
          "metadata": {},
          "execution_count": 22
        }
      ]
    },
    {
      "cell_type": "code",
      "metadata": {
        "colab": {
          "base_uri": "https://localhost:8080/"
        },
        "id": "lzS8ZfvARAXA",
        "outputId": "b20c1664-8583-40a1-a1be-9d7d86f6d634"
      },
      "source": [
        "x= 5\n",
        "y= 7\n",
        "z= 9\n",
        "x<y and y<z"
      ],
      "execution_count": 23,
      "outputs": [
        {
          "output_type": "execute_result",
          "data": {
            "text/plain": [
              "True"
            ]
          },
          "metadata": {},
          "execution_count": 23
        }
      ]
    },
    {
      "cell_type": "code",
      "metadata": {
        "colab": {
          "base_uri": "https://localhost:8080/"
        },
        "id": "CGkiCSApRbOc",
        "outputId": "d3a07e7e-efd7-4475-c6ff-af8b0ef9b324"
      },
      "source": [
        "x= 5\n",
        "y= 7\n",
        "z= 9\n",
        "x<y or y>z"
      ],
      "execution_count": 24,
      "outputs": [
        {
          "output_type": "execute_result",
          "data": {
            "text/plain": [
              "True"
            ]
          },
          "metadata": {},
          "execution_count": 24
        }
      ]
    },
    {
      "cell_type": "code",
      "metadata": {
        "colab": {
          "base_uri": "https://localhost:8080/"
        },
        "id": "3FUfsUFrRjBd",
        "outputId": "c11b172b-38db-46f9-bd71-87071ff96317"
      },
      "source": [
        "x= 5\n",
        "y= 7\n",
        "z= 9\n",
        "not(x<y and y>z)"
      ],
      "execution_count": 25,
      "outputs": [
        {
          "output_type": "execute_result",
          "data": {
            "text/plain": [
              "True"
            ]
          },
          "metadata": {},
          "execution_count": 25
        }
      ]
    },
    {
      "cell_type": "code",
      "metadata": {
        "colab": {
          "base_uri": "https://localhost:8080/"
        },
        "id": "3v1CtZkpRv4f",
        "outputId": "3c4d1d53-03ef-4d0f-e503-ca080a52736b"
      },
      "source": [
        "x= 7\n",
        "y= 7\n",
        "x is y"
      ],
      "execution_count": 28,
      "outputs": [
        {
          "output_type": "execute_result",
          "data": {
            "text/plain": [
              "True"
            ]
          },
          "metadata": {},
          "execution_count": 28
        }
      ]
    },
    {
      "cell_type": "code",
      "metadata": {
        "colab": {
          "base_uri": "https://localhost:8080/"
        },
        "id": "lQmF8EC3SCfT",
        "outputId": "71d5acc0-e28e-43ef-c7cc-7c269c902cc5"
      },
      "source": [
        "x= 8\n",
        "y= 10\n",
        "x is not y"
      ],
      "execution_count": 30,
      "outputs": [
        {
          "output_type": "execute_result",
          "data": {
            "text/plain": [
              "True"
            ]
          },
          "metadata": {},
          "execution_count": 30
        }
      ]
    }
  ]
}