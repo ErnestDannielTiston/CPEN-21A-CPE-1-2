{
  "nbformat": 4,
  "nbformat_minor": 0,
  "metadata": {
    "colab": {
      "name": "Lab1.ipynb",
      "provenance": [],
      "authorship_tag": "ABX9TyPePXVsLZIT14eBO+yR7bf1",
      "include_colab_link": true
    },
    "kernelspec": {
      "name": "python3",
      "display_name": "Python 3"
    },
    "language_info": {
      "name": "python"
    }
  },
  "cells": [
    {
      "cell_type": "markdown",
      "metadata": {
        "id": "view-in-github",
        "colab_type": "text"
      },
      "source": [
        "<a href=\"https://colab.research.google.com/github/ErnestDannielTiston/CPEN-21A-CPE-1-2/blob/main/Lab1.ipynb\" target=\"_parent\"><img src=\"https://colab.research.google.com/assets/colab-badge.svg\" alt=\"Open In Colab\"/></a>"
      ]
    },
    {
      "cell_type": "markdown",
      "metadata": {
        "id": "y-23aUUGtOfC"
      },
      "source": [
        "### **Laboratory 1**"
      ]
    },
    {
      "cell_type": "code",
      "metadata": {
        "colab": {
          "base_uri": "https://localhost:8080/"
        },
        "id": "F0d9x_2KsXwk",
        "outputId": "04691a7a-7913-4403-8ac2-9c6c81cff0aa"
      },
      "source": [
        "print (\"Welcome to Python Programming\")"
      ],
      "execution_count": null,
      "outputs": [
        {
          "output_type": "stream",
          "name": "stdout",
          "text": [
            "Welcome to Python Programming\n"
          ]
        }
      ]
    },
    {
      "cell_type": "code",
      "metadata": {
        "colab": {
          "base_uri": "https://localhost:8080/"
        },
        "id": "TGPwMMNHyVyy",
        "outputId": "c1e9afa1-8fd4-4a9a-a0cd-036f66ee16ed"
      },
      "source": [
        "name= \"Ernest Danniel R. Tiston\"\n",
        "address= \"B-20 L-45 Dove st. Southcrest Villa, San Agustin 2 Dasmariñas Cavite\"\n",
        "age= \"17\"\n",
        "\n",
        "print (\"Hello my name is \" + name)\n",
        "print (\"My family reside in \" + address)\n",
        "print (\"Currently I am \" + age + \"years of age\")"
      ],
      "execution_count": null,
      "outputs": [
        {
          "output_type": "stream",
          "name": "stdout",
          "text": [
            "Hello my name is Ernest Danniel R. Tiston\n",
            "My family reside in B-20 L-45 Dove st. Southcrest Villa, San Agustin 2 Dasmariñas Cavite\n",
            "Currently I am 17years of age\n"
          ]
        }
      ]
    }
  ]
}