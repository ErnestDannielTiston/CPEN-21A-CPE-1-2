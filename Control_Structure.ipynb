{
  "nbformat": 4,
  "nbformat_minor": 0,
  "metadata": {
    "colab": {
      "name": "Control Structure.ipynb",
      "provenance": [],
      "authorship_tag": "ABX9TyOeYQsP4a6v9I/WDlVetTh6",
      "include_colab_link": true
    },
    "kernelspec": {
      "name": "python3",
      "display_name": "Python 3"
    },
    "language_info": {
      "name": "python"
    }
  },
  "cells": [
    {
      "cell_type": "markdown",
      "metadata": {
        "id": "view-in-github",
        "colab_type": "text"
      },
      "source": [
        "<a href=\"https://colab.research.google.com/github/ErnestDannielTiston/CPEN-21A-CPE-1-2/blob/main/Control_Structure.ipynb\" target=\"_parent\"><img src=\"https://colab.research.google.com/assets/colab-badge.svg\" alt=\"Open In Colab\"/></a>"
      ]
    },
    {
      "cell_type": "markdown",
      "metadata": {
        "id": "ZYBl6-J0H8Va"
      },
      "source": [
        "#If Statement"
      ]
    },
    {
      "cell_type": "code",
      "metadata": {
        "colab": {
          "base_uri": "https://localhost:8080/"
        },
        "id": "IgeyxXkwHcIr",
        "outputId": "28676fa1-b1d2-4011-c335-566d2a590ebc"
      },
      "source": [
        "a = 12             \n",
        "b = 100\n",
        "if b > a :\n",
        "  print(\"b is greater than a\")"
      ],
      "execution_count": null,
      "outputs": [
        {
          "output_type": "stream",
          "name": "stdout",
          "text": [
            "b is greater than a\n"
          ]
        }
      ]
    },
    {
      "cell_type": "markdown",
      "metadata": {
        "id": "-kVUS83gIqtC"
      },
      "source": [
        "#Elif Statement"
      ]
    },
    {
      "cell_type": "code",
      "metadata": {
        "colab": {
          "base_uri": "https://localhost:8080/"
        },
        "id": "iaSe2LJ9Iv0y",
        "outputId": "ccdb7938-6d31-4d53-ea22-0a37c03f62de"
      },
      "source": [
        "a = 120             \n",
        "b = 100\n",
        "if b > a :\n",
        "  print(\"b is greater than a\")\n",
        "elif a > b :\n",
        "  print(\"a is greater than b\")"
      ],
      "execution_count": null,
      "outputs": [
        {
          "output_type": "stream",
          "name": "stdout",
          "text": [
            "a is greater than b\n"
          ]
        }
      ]
    },
    {
      "cell_type": "markdown",
      "metadata": {
        "id": "A4xO-d2YJFGQ"
      },
      "source": [
        "#Else Statement\n",
        "\n"
      ]
    },
    {
      "cell_type": "code",
      "metadata": {
        "colab": {
          "base_uri": "https://localhost:8080/"
        },
        "id": "xuHHQiFwJMoa",
        "outputId": "5bc8c418-0826-4e41-a61d-08f5c9f8fb5e"
      },
      "source": [
        "a = 100             \n",
        "b = 100\n",
        "if b > a :\n",
        "  print(\"b is greater than a\")\n",
        "elif a > b :\n",
        "  print(\"a is greater than b\")\n",
        "else :\n",
        "  print(\"a is equal to b\")"
      ],
      "execution_count": null,
      "outputs": [
        {
          "output_type": "stream",
          "name": "stdout",
          "text": [
            "a is equal to b\n"
          ]
        }
      ]
    },
    {
      "cell_type": "markdown",
      "metadata": {
        "id": "0UyCrcaqJyuR"
      },
      "source": [
        "#Short Hand If Statement"
      ]
    },
    {
      "cell_type": "code",
      "metadata": {
        "colab": {
          "base_uri": "https://localhost:8080/"
        },
        "id": "h5kn4BuMJ29Z",
        "outputId": "37a76107-cf10-4cbf-f071-45dc8dfd3710"
      },
      "source": [
        "a = 45\n",
        "b = 30\n",
        "\n",
        "if a > b: print(\"a is greater than b\") "
      ],
      "execution_count": null,
      "outputs": [
        {
          "output_type": "stream",
          "name": "stdout",
          "text": [
            "a is greater than b\n"
          ]
        }
      ]
    },
    {
      "cell_type": "markdown",
      "metadata": {
        "id": "GJR40YfFKDTB"
      },
      "source": [
        "#Short Hand Else Statement"
      ]
    },
    {
      "cell_type": "code",
      "metadata": {
        "colab": {
          "base_uri": "https://localhost:8080/"
        },
        "id": "_5aD9-cSKG9E",
        "outputId": "87806e74-2606-437a-d2e0-9389b900867f"
      },
      "source": [
        "a = 45\n",
        "b = 30\n",
        "\n",
        "print(\"a is greater than b\") if a > b else print(\"b is greater than a\") "
      ],
      "execution_count": null,
      "outputs": [
        {
          "output_type": "stream",
          "name": "stdout",
          "text": [
            "a is greater than b\n"
          ]
        }
      ]
    },
    {
      "cell_type": "markdown",
      "metadata": {
        "id": "zyj5Q3LcKyNQ"
      },
      "source": [
        "#And logic condition"
      ]
    },
    {
      "cell_type": "code",
      "metadata": {
        "colab": {
          "base_uri": "https://localhost:8080/"
        },
        "id": "-bCxv0UqLG2W",
        "outputId": "3e5897f0-4d92-4667-a948-9a70b680f1ea"
      },
      "source": [
        "x = 7\n",
        "\n",
        "if x > 5 and x > 6 :\n",
        "  print(\"Both conditions are true\")"
      ],
      "execution_count": null,
      "outputs": [
        {
          "output_type": "stream",
          "name": "stdout",
          "text": [
            "Both conditions are true\n"
          ]
        }
      ]
    },
    {
      "cell_type": "markdown",
      "metadata": {
        "id": "T6FtF8kSLaEf"
      },
      "source": [
        "#Or logic condition"
      ]
    },
    {
      "cell_type": "code",
      "metadata": {
        "colab": {
          "base_uri": "https://localhost:8080/"
        },
        "id": "62GRLwedLcr4",
        "outputId": "7486ffed-a810-4cc0-dd4f-977e1433e403"
      },
      "source": [
        "x = 18\n",
        "\n",
        "if x > 18 or x < 15:\n",
        "  print(\"True\")\n",
        "else:\n",
        "  print(\"False\")"
      ],
      "execution_count": null,
      "outputs": [
        {
          "output_type": "stream",
          "name": "stdout",
          "text": [
            "False\n"
          ]
        }
      ]
    },
    {
      "cell_type": "code",
      "metadata": {
        "colab": {
          "base_uri": "https://localhost:8080/"
        },
        "id": "czQZSEQuL_x4",
        "outputId": "76459f84-3fe6-4290-b4f8-095b767a5f9f"
      },
      "source": [
        "#Nested If\n",
        "if x > 10:\n",
        "  print(\"Above 10\")\n",
        "  if x < 20:\n",
        "    print(\"Above 20\")\n",
        "  else:\n",
        "    print((\"below 20\"))\n",
        "else:\n",
        "  print(\"less than 10\")"
      ],
      "execution_count": null,
      "outputs": [
        {
          "output_type": "stream",
          "name": "stdout",
          "text": [
            "Above 10\n",
            "Above 20\n"
          ]
        }
      ]
    },
    {
      "cell_type": "markdown",
      "metadata": {
        "id": "kWKm2ADzNDdH"
      },
      "source": [
        "Example 1"
      ]
    },
    {
      "cell_type": "code",
      "metadata": {
        "colab": {
          "base_uri": "https://localhost:8080/"
        },
        "id": "aXL_KfezNFVm",
        "outputId": "89c04397-d8fd-442b-8093-f6aa1dec0128"
      },
      "source": [
        "age = int(input(\"Enter your age: \"))\n",
        "\n",
        "if age >= 18:\n",
        "  print(\"You are qualified to vote\")\n",
        "else:\n",
        "  print(\"You are not qualified to vote\")"
      ],
      "execution_count": null,
      "outputs": [
        {
          "output_type": "stream",
          "name": "stdout",
          "text": [
            "Enter your age: 19\n",
            "You are qualified to vote\n"
          ]
        }
      ]
    },
    {
      "cell_type": "markdown",
      "metadata": {
        "id": "UoKDvCdhNl9-"
      },
      "source": [
        "Example 2"
      ]
    },
    {
      "cell_type": "code",
      "metadata": {
        "colab": {
          "base_uri": "https://localhost:8080/"
        },
        "id": "qwjhaBNfNnZ2",
        "outputId": "7532773a-cee2-49ed-e396-b671559e52da"
      },
      "source": [
        "number = float(input(\"Enter a number: \"))\n",
        "\n",
        "if number == 0:\n",
        "  print(\"Zero\")\n",
        "elif number > 0:\n",
        "  print(\"Positive\")\n",
        "else:\n",
        "  print(\"Negative\")"
      ],
      "execution_count": null,
      "outputs": [
        {
          "output_type": "stream",
          "name": "stdout",
          "text": [
            "Enter a number: .99\n",
            "Positive\n"
          ]
        }
      ]
    },
    {
      "cell_type": "markdown",
      "metadata": {
        "id": "6-sgdwn9Oked"
      },
      "source": [
        "Example 3"
      ]
    },
    {
      "cell_type": "code",
      "metadata": {
        "colab": {
          "base_uri": "https://localhost:8080/"
        },
        "id": "IFHVfQDiOm39",
        "outputId": "ea549b82-11e1-41fe-bee6-1cd6012739f0"
      },
      "source": [
        "grade = float(input(\"Enter a number: \"))\n",
        "\n",
        "if grade >= 75:\n",
        "  print(\"Passed\")\n",
        "elif 74 <= grade <75:\n",
        "  print(\"Remedial\")\n",
        "else:\n",
        "  print(\"Failed\")"
      ],
      "execution_count": 33,
      "outputs": [
        {
          "output_type": "stream",
          "name": "stdout",
          "text": [
            "Enter a number: 74.231\n",
            "Remedial\n"
          ]
        }
      ]
    }
  ]
}