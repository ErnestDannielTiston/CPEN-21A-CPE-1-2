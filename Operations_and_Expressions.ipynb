{
  "nbformat": 4,
  "nbformat_minor": 0,
  "metadata": {
    "colab": {
      "name": "Operations and Expressions.ipynb",
      "provenance": [],
      "authorship_tag": "ABX9TyMOLULU76duuRuTloYIlt69",
      "include_colab_link": true
    },
    "kernelspec": {
      "name": "python3",
      "display_name": "Python 3"
    },
    "language_info": {
      "name": "python"
    }
  },
  "cells": [
    {
      "cell_type": "markdown",
      "metadata": {
        "id": "view-in-github",
        "colab_type": "text"
      },
      "source": [
        "<a href=\"https://colab.research.google.com/github/ErnestDannielTiston/CPEN-21A-CPE-1-2/blob/main/Operations_and_Expressions.ipynb\" target=\"_parent\"><img src=\"https://colab.research.google.com/assets/colab-badge.svg\" alt=\"Open In Colab\"/></a>"
      ]
    },
    {
      "cell_type": "markdown",
      "metadata": {
        "id": "znULgDZAz8fw"
      },
      "source": [
        "###Bollean Operators"
      ]
    },
    {
      "cell_type": "code",
      "metadata": {
        "colab": {
          "base_uri": "https://localhost:8080/"
        },
        "id": "gLL6Gf7X0DUG",
        "outputId": "8ca7c845-3560-47de-f84d-ab1537a0a595"
      },
      "source": [
        "#Booleans represent one of the two values: True and False\n",
        "print(10>9)\n",
        "print(10==9)\n",
        "print(9>10)"
      ],
      "execution_count": 3,
      "outputs": [
        {
          "output_type": "stream",
          "name": "stdout",
          "text": [
            "True\n",
            "False\n",
            "False\n"
          ]
        }
      ]
    },
    {
      "cell_type": "code",
      "metadata": {
        "colab": {
          "base_uri": "https://localhost:8080/"
        },
        "id": "5ST1VxL00_j_",
        "outputId": "a2e8274e-ebfe-4615-c9bc-98d3226eedb0"
      },
      "source": [
        "a=10\n",
        "b=9\n",
        "print(a>b)\n",
        "print(a==b)\n",
        "print(b>a)"
      ],
      "execution_count": 4,
      "outputs": [
        {
          "output_type": "stream",
          "name": "stdout",
          "text": [
            "True\n",
            "False\n",
            "False\n"
          ]
        }
      ]
    },
    {
      "cell_type": "code",
      "metadata": {
        "colab": {
          "base_uri": "https://localhost:8080/"
        },
        "id": "B-QZbLHg1lpu",
        "outputId": "9e9759c4-3360-41b6-8031-1b79f219fc63"
      },
      "source": [
        "print(bool('Hello'))\n",
        "print(bool(15))"
      ],
      "execution_count": 6,
      "outputs": [
        {
          "output_type": "stream",
          "name": "stdout",
          "text": [
            "True\n",
            "True\n"
          ]
        }
      ]
    },
    {
      "cell_type": "code",
      "metadata": {
        "colab": {
          "base_uri": "https://localhost:8080/"
        },
        "id": "U7ojYfaX17sE",
        "outputId": "8a7045c1-7fc0-44ed-e9f0-c7313f6e9d2c"
      },
      "source": [
        "print(bool(False))\n",
        "print(bool(None))\n",
        "print(bool({}))\n",
        "print(bool(0))\n",
        "print(bool([]))                           #allows you to evaluate and give you false in return"
      ],
      "execution_count": 12,
      "outputs": [
        {
          "output_type": "stream",
          "name": "stdout",
          "text": [
            "False\n",
            "False\n",
            "False\n",
            "False\n",
            "False\n"
          ]
        }
      ]
    },
    {
      "cell_type": "code",
      "metadata": {
        "colab": {
          "base_uri": "https://localhost:8080/"
        },
        "id": "U0_k74EX2k3H",
        "outputId": "fcf099e6-d1ec-4fab-8d65-743efbdd513f"
      },
      "source": [
        "def myFunction(): return True\n",
        "print(myFunction())"
      ],
      "execution_count": 15,
      "outputs": [
        {
          "output_type": "stream",
          "name": "stdout",
          "text": [
            "True\n"
          ]
        }
      ]
    },
    {
      "cell_type": "code",
      "metadata": {
        "colab": {
          "base_uri": "https://localhost:8080/"
        },
        "id": "8GYoHG1c3EpM",
        "outputId": "19329f2d-3363-41f2-9222-72edc1067301"
      },
      "source": [
        "def myFunction(): return True\n",
        "print(myFunction())\n",
        "\n",
        "if (myFunction()):\n",
        "  print('Yes')\n",
        "else:\n",
        "  print('No')"
      ],
      "execution_count": 16,
      "outputs": [
        {
          "output_type": "stream",
          "name": "stdout",
          "text": [
            "True\n",
            "Yes\n"
          ]
        }
      ]
    },
    {
      "cell_type": "markdown",
      "metadata": {
        "id": "eT-hF4Dv4Wr7"
      },
      "source": [
        "You Try!"
      ]
    },
    {
      "cell_type": "code",
      "metadata": {
        "colab": {
          "base_uri": "https://localhost:8080/"
        },
        "id": "RoMXOlwD4PXV",
        "outputId": "3090f4a3-bec7-4186-fc77-c790e1e9a898"
      },
      "source": [
        "A = 6\n",
        "B = 7\n",
        "print(A==B)\n",
        "print(A!=A)"
      ],
      "execution_count": 20,
      "outputs": [
        {
          "output_type": "stream",
          "name": "stdout",
          "text": [
            "False\n",
            "False\n"
          ]
        }
      ]
    },
    {
      "cell_type": "code",
      "metadata": {
        "colab": {
          "base_uri": "https://localhost:8080/"
        },
        "id": "FhqwY4IQ436l",
        "outputId": "3c07a6e2-0e1a-47ea-8584-42da9c66fa8a"
      },
      "source": [
        "print(10+5)\n",
        "print(10-5)\n",
        "print(10*5)\n",
        "print(10/5)   #division - quotient\n",
        "print(10%5)   #modulo - division\n",
        "print(10//3)   #floor division\n",
        "print(10**2)   #concatenation "
      ],
      "execution_count": 21,
      "outputs": [
        {
          "output_type": "stream",
          "name": "stdout",
          "text": [
            "15\n",
            "5\n",
            "50\n",
            "2.0\n",
            "0\n",
            "3\n"
          ]
        }
      ]
    },
    {
      "cell_type": "code",
      "metadata": {
        "colab": {
          "base_uri": "https://localhost:8080/"
        },
        "id": "j2U_gvfR5wIW",
        "outputId": "30834fa3-ec8b-4395-d338-098289222798"
      },
      "source": [
        "a = 60   #0011 1100\n",
        "b = 13   #0000 1101\n",
        "\n",
        "print(a & b)\n",
        "print(a | b)\n",
        "print(a ^ b)\n",
        "print(a<<2)\n",
        "print(a>>2)"
      ],
      "execution_count": 30,
      "outputs": [
        {
          "output_type": "stream",
          "name": "stdout",
          "text": [
            "12\n",
            "61\n",
            "49\n",
            "240\n",
            "15\n"
          ]
        }
      ]
    },
    {
      "cell_type": "code",
      "metadata": {
        "colab": {
          "base_uri": "https://localhost:8080/"
        },
        "id": "Yvs9B97Z-w8w",
        "outputId": "5af9b5e5-905e-45de-d274-d4fd274c4662"
      },
      "source": [
        "x = 6\n",
        "x+=3         # x= x+3\n",
        "print(x)\n",
        "\n",
        "x%=3         #x= 6%3\n",
        "print(x)"
      ],
      "execution_count": 38,
      "outputs": [
        {
          "output_type": "stream",
          "name": "stdout",
          "text": [
            "9\n",
            "0\n"
          ]
        }
      ]
    },
    {
      "cell_type": "code",
      "metadata": {
        "colab": {
          "base_uri": "https://localhost:8080/"
        },
        "id": "5ElidfvV_c_e",
        "outputId": "ca57316d-061c-4312-85d6-be77f42c58b0"
      },
      "source": [
        "a= True\n",
        "b= False\n",
        "\n",
        "print(a and b)\n",
        "print(a or b)\n",
        "print(not(a and b))\n",
        "print(not(a or b))  #negation"
      ],
      "execution_count": 43,
      "outputs": [
        {
          "output_type": "stream",
          "name": "stdout",
          "text": [
            "False\n",
            "True\n",
            "True\n",
            "False\n"
          ]
        }
      ]
    },
    {
      "cell_type": "code",
      "metadata": {
        "colab": {
          "base_uri": "https://localhost:8080/"
        },
        "id": "bTrmSGPNAE6Y",
        "outputId": "2729d64d-6d62-4e8c-d6cb-6d35cb482ca8"
      },
      "source": [
        "print(a is b)\n",
        "print(a is not b)"
      ],
      "execution_count": 47,
      "outputs": [
        {
          "output_type": "stream",
          "name": "stdout",
          "text": [
            "False\n",
            "True\n"
          ]
        }
      ]
    }
  ]
}