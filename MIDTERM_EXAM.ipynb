{
  "nbformat": 4,
  "nbformat_minor": 0,
  "metadata": {
    "colab": {
      "name": "MIDTERM EXAM.ipynb",
      "provenance": [],
      "authorship_tag": "ABX9TyM/1kOh/zM+OFEIKiFOlFZW",
      "include_colab_link": true
    },
    "kernelspec": {
      "name": "python3",
      "display_name": "Python 3"
    },
    "language_info": {
      "name": "python"
    }
  },
  "cells": [
    {
      "cell_type": "markdown",
      "metadata": {
        "id": "view-in-github",
        "colab_type": "text"
      },
      "source": [
        "<a href=\"https://colab.research.google.com/github/ErnestDannielTiston/CPEN-21A-CPE-1-2/blob/main/MIDTERM_EXAM.ipynb\" target=\"_parent\"><img src=\"https://colab.research.google.com/assets/colab-badge.svg\" alt=\"Open In Colab\"/></a>"
      ]
    },
    {
      "cell_type": "markdown",
      "metadata": {
        "id": "vMyQFQkHMoMd"
      },
      "source": [
        "###MIDTERM EXAM"
      ]
    },
    {
      "cell_type": "markdown",
      "metadata": {
        "id": "tAbhENVWBjkm"
      },
      "source": [
        "\n",
        "####Problem Statement 1\n",
        "```\n",
        "```\n",
        "\n"
      ]
    },
    {
      "cell_type": "code",
      "metadata": {
        "colab": {
          "base_uri": "https://localhost:8080/"
        },
        "id": "2RaS93tRBikU",
        "outputId": "985bbd8d-4d70-4f46-fbc3-e9457ee7c3d5"
      },
      "source": [
        "#Ernest Danniel R. Tiston          BSCpE 1-2\n",
        "\n",
        "\n",
        "\n",
        "fName = 'Ernest Danniel R. Tiston'\n",
        "studentNum = '202106651'\n",
        "age = '17'  \n",
        "birthday = 'March 15, 2004'  \n",
        "address = 'B-20 L-45 Dove St. SCV SanAgustin 2 Dasmarinas Cavite'\n",
        "course = 'Bachelor of Science in Computer Engineering'\n",
        "gwa = '95'\n",
        "\n",
        "print('Name: '+ fName)\n",
        "print('Student Number: ' + studentNum)\n",
        "print('Age: ' + age)\n",
        "print('Birthday: ' + birthday)\n",
        "print('Address: ' + address)\n",
        "print('Course: ' + course)\n",
        "print('GWA: ' + gwa)"
      ],
      "execution_count": 26,
      "outputs": [
        {
          "output_type": "stream",
          "name": "stdout",
          "text": [
            "Name: Ernest Danniel R. Tiston\n",
            "Student Number: 202106651\n",
            "Age: 17\n",
            "Birthday: March 15, 2004\n",
            "Address: B-20 L-45 Dove St. SCV SanAgustin 2 Dasmarinas Cavite\n",
            "Course: Bachelor of Science in Computer Engineering\n",
            "GWA: 95\n"
          ]
        }
      ]
    },
    {
      "cell_type": "markdown",
      "metadata": {
        "id": "HloXnBGeEQuX"
      },
      "source": [
        "####Problem Statement 2"
      ]
    },
    {
      "cell_type": "code",
      "metadata": {
        "colab": {
          "base_uri": "https://localhost:8080/"
        },
        "id": "nUl_J-ddEVnp",
        "outputId": "65f825b2-8c13-4ed8-b81f-a29b91fc22c1"
      },
      "source": [
        "n = 4\n",
        "answ = \"Y\"\n",
        "\n",
        "print('a.', bool(2<n) and (n<6))\n",
        "print('b.', bool(2<n)or(n==6))\n",
        "print('c.', bool(not(2<n) or (n==6)))\n",
        "print('d.', bool(not(n<6)))\n",
        "print('e.', bool(answ == \"Y\") or (answ == \"y\"))\n",
        "print('f.', bool(answ == \"Y\") and (answ == \"y\"))\n",
        "print('g.', bool(not(answ == \"y\")))\n",
        "print('h.', bool((2<n)and(n == 5+1)) or (answ == \"No\"))\n",
        "print('i.', bool((n == 2) and (n==7) or (answ ==\"Y\")))\n",
        "print(\"j.\", bool((n == 2) and ((n == 7) or (answ == \"Y\"))))\n"
      ],
      "execution_count": 63,
      "outputs": [
        {
          "output_type": "stream",
          "name": "stdout",
          "text": [
            "a. True\n",
            "b. True\n",
            "c. False\n",
            "d. False\n",
            "e. True\n",
            "f. False\n",
            "g. True\n",
            "h. False\n",
            "i. True\n",
            "j. False\n"
          ]
        }
      ]
    },
    {
      "cell_type": "markdown",
      "metadata": {
        "id": "LVtguSHlEtXR"
      },
      "source": [
        "####Problem Statement 3"
      ]
    },
    {
      "cell_type": "code",
      "metadata": {
        "colab": {
          "base_uri": "https://localhost:8080/"
        },
        "id": "mEi4kDiDexv6",
        "outputId": "5ec5562e-1ad1-4326-96c5-326f07624ce5"
      },
      "source": [
        "x = 2 \n",
        "y= -3 \n",
        "w =7 \n",
        "z = -10\n",
        "\n",
        "print('a.', x/y)\n",
        "print('b.', w/y/x)\n",
        "print('c.', z/y%x)\n",
        "print('d.', x%-y*w)\n",
        "print('e.', x%y)\n",
        "print('f.', z%w-y/x*5+5)\n",
        "print('g.', 9-x%(2+y))\n",
        "print('h.', z//w)\n",
        "print('i.', (2+y)**2)\n",
        "print('j.', w/x*2)"
      ],
      "execution_count": 64,
      "outputs": [
        {
          "output_type": "stream",
          "name": "stdout",
          "text": [
            "a. -0.6666666666666666\n",
            "b. -1.1666666666666667\n",
            "c. 1.3333333333333335\n",
            "d. 14\n",
            "e. -1\n",
            "f. 16.5\n",
            "g. 9\n",
            "h. -2\n",
            "i. 1\n",
            "j. 7.0\n"
          ]
        }
      ]
    }
  ]
}