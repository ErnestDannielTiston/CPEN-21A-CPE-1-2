{
  "nbformat": 4,
  "nbformat_minor": 0,
  "metadata": {
    "colab": {
      "provenance": [],
      "authorship_tag": "ABX9TyMtc4gKwkrPKtEX+UMUIpts",
      "include_colab_link": true
    },
    "kernelspec": {
      "name": "python3",
      "display_name": "Python 3"
    },
    "language_info": {
      "name": "python"
    }
  },
  "cells": [
    {
      "cell_type": "markdown",
      "metadata": {
        "id": "view-in-github",
        "colab_type": "text"
      },
      "source": [
        "<a href=\"https://colab.research.google.com/github/ErnestDannielTiston/CPEN-21A-CPE-1-2/blob/main/Exercise.ipynb\" target=\"_parent\"><img src=\"https://colab.research.google.com/assets/colab-badge.svg\" alt=\"Open In Colab\"/></a>"
      ]
    },
    {
      "cell_type": "code",
      "execution_count": 9,
      "metadata": {
        "colab": {
          "base_uri": "https://localhost:8080/"
        },
        "id": "wlhwRo392C-S",
        "outputId": "dd702bc2-0a04-4f6a-9339-b7e2e3eba690"
      },
      "outputs": [
        {
          "output_type": "stream",
          "name": "stdout",
          "text": [
            "What is your name:Ernest Danniel Tiston\n",
            "Original Characters of Your Name: ['E', 'r', 'n', 'e', 's', 't', ' ', 'D', 'a', 'n', 'n', 'i', 'e', 'l', ' ', 'T', 'i', 's', 't', 'o', 'n']\n",
            "Reversed Characters of Your Name ['n', 'o', 't', 's', 'i', 'T', ' ', 'l', 'e', 'i', 'n', 'n', 'a', 'D', ' ', 't', 's', 'e', 'n', 'r', 'E']\n"
          ]
        }
      ],
      "source": [
        "#Create a python prog that uses Array\n",
        "#Insert each character of your full name and displays each character of your full name in reverse\n",
        "\n",
        "Name = input(\"What is your name:\")\n",
        "given_name = list(Name)\n",
        "print(\"Original Characters of Your Name:\", given_name)\n",
        "\n",
        "given_name.reverse()\n",
        "print(\"Reversed Characters of Your Name\", given_name)"
      ]
    }
  ]
}