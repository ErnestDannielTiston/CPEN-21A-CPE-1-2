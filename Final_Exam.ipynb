{
  "nbformat": 4,
  "nbformat_minor": 0,
  "metadata": {
    "colab": {
      "name": "Final Exam.ipynb",
      "provenance": [],
      "authorship_tag": "ABX9TyNbHoQv60xhFqr1z3V/l3u6",
      "include_colab_link": true
    },
    "kernelspec": {
      "name": "python3",
      "display_name": "Python 3"
    },
    "language_info": {
      "name": "python"
    }
  },
  "cells": [
    {
      "cell_type": "markdown",
      "metadata": {
        "id": "view-in-github",
        "colab_type": "text"
      },
      "source": [
        "<a href=\"https://colab.research.google.com/github/ErnestDannielTiston/CPEN-21A-CPE-1-2/blob/main/Final_Exam.ipynb\" target=\"_parent\"><img src=\"https://colab.research.google.com/assets/colab-badge.svg\" alt=\"Open In Colab\"/></a>"
      ]
    },
    {
      "cell_type": "markdown",
      "source": [
        "##Final Exam\n"
      ],
      "metadata": {
        "id": "ZYva9VZltKTn"
      }
    },
    {
      "cell_type": "markdown",
      "source": [
        "Problem Statement 1"
      ],
      "metadata": {
        "id": "5RRiidIKt_c2"
      }
    },
    {
      "cell_type": "code",
      "execution_count": 74,
      "metadata": {
        "colab": {
          "base_uri": "https://localhost:8080/"
        },
        "id": "w_N9yD4QmCT1",
        "outputId": "a623ce5d-3372-47b8-975e-6b2a25e5821c"
      },
      "outputs": [
        {
          "output_type": "stream",
          "name": "stdout",
          "text": [
            "10 numbers that are less than 5 are:\n",
            "-20 -19 -18 -17 -16 -15 -14 -13 -12 -11 \n",
            "\n",
            "The sum of 10 numbers that are less than 5 is: -155\n"
          ]
        }
      ],
      "source": [
        "number = (-20,-19,-18,-17,-16,-15,-14,-13,-12,-11)\n",
        "total = 0\n",
        "\n",
        "print(\"10 numbers that are less than 5 are:\")\n",
        "for x in number:\n",
        "  print(x, end=\" \")\n",
        "  total= total + x\n",
        "print(\"\\n\")\n",
        "print(\"The sum of 10 numbers that are less than 5 is:\",total)\n",
        "\n"
      ]
    },
    {
      "cell_type": "markdown",
      "source": [
        "Problem Statement 2"
      ],
      "metadata": {
        "id": "_CkiSSjdAEHh"
      }
    },
    {
      "cell_type": "code",
      "source": [
        "x = 1\n",
        "empty_list= []\n",
        "\n",
        "while x<=5:\n",
        "  num = int(input(\"Enter a value: \"))\n",
        "  empty_list.append(num)\n",
        "  if x == 1:\n",
        "    first_number = num \n",
        "  elif x == 5:\n",
        "    last_number = num\n",
        "  x+=1\n",
        "  \n",
        "print(\"\\n\",\"The five values are:\")\n",
        "print(empty_list)\n",
        "sum = (first_number + last_number)\n",
        "print(\"\\n\",\"The sum of first and last number among the five value is: \", sum)"
      ],
      "metadata": {
        "colab": {
          "base_uri": "https://localhost:8080/"
        },
        "id": "SVmadFxbAGhx",
        "outputId": "2722a575-e797-4611-fe13-37e592b9c412"
      },
      "execution_count": 85,
      "outputs": [
        {
          "output_type": "stream",
          "name": "stdout",
          "text": [
            "Enter a value: 2323\n",
            "Enter a value: 2321443\n",
            "Enter a value: 665\n",
            "Enter a value: 545\n",
            "Enter a value: 4\n",
            "\n",
            " The five values are:\n",
            "[2323, 2321443, 665, 545, 4]\n",
            "\n",
            " The sum of first and last number among the five value is:  2327\n"
          ]
        }
      ]
    },
    {
      "cell_type": "markdown",
      "source": [
        "Problem Statement 3\n"
      ],
      "metadata": {
        "id": "6GIF0TNfDXr1"
      }
    },
    {
      "cell_type": "code",
      "source": [
        "grd = float(input(\"Enter your grade:\"))\n",
        "\n",
        "if grd >= 90 and grd <= 100:\n",
        "  print(\"Your Equivalent Grade is A\")\n",
        "else:\n",
        "    if grd >= 80 and grd < 90:\n",
        "      print(\"Your Equivalent Grade is B\")\n",
        "    else:\n",
        "        if grd >= 70 and grd < 80:\n",
        "          print(\"Your Equivalent Grade is C\")\n",
        "        else:\n",
        "            if grd >= 60 and grd < 70:\n",
        "              print(\"Your Equivalent Grade is D\")\n",
        "            else:\n",
        "              if grd < 60 and grd >= 0:\n",
        "                print(\"Your Equivalent Grade is F\")\n",
        "              else:\n",
        "                print(\"invalid input\")"
      ],
      "metadata": {
        "colab": {
          "base_uri": "https://localhost:8080/"
        },
        "id": "yjergoFkDa9k",
        "outputId": "3c1d9655-924b-4acc-cf12-af66e0ed0140"
      },
      "execution_count": 106,
      "outputs": [
        {
          "output_type": "stream",
          "name": "stdout",
          "text": [
            "Enter your grade:60\n",
            "Your Equivalent Grade is D\n"
          ]
        }
      ]
    }
  ]
}